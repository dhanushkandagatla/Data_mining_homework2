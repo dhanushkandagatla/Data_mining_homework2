{
 "cells": [
  {
   "cell_type": "markdown",
   "id": "c4a6eac1",
   "metadata": {},
   "source": [
    "# 1 PANDAS PROFILING"
   ]
  },
  {
   "cell_type": "code",
   "execution_count": 1,
   "id": "b8a94c62",
   "metadata": {},
   "outputs": [],
   "source": [
    "import warnings\n",
    "warnings.filterwarnings('ignore')\n",
    "warnings.filterwarnings('ignore', category=DeprecationWarning)\n",
    "warnings.filterwarnings('ignore', message='Your specific warning message')\n",
    "\n",
    "import pandas as pd\n",
    "import seaborn as sns\n",
    "from sklearn.model_selection import KFold, cross_val_predict, cross_val_score\n",
    "from sklearn.ensemble import RandomForestClassifier\n",
    "from sklearn.metrics import roc_curve, auc, accuracy_score, roc_auc_score\n",
    "from sklearn.preprocessing import LabelEncoder\n",
    "from sklearn.naive_bayes import GaussianNB\n",
    "from sklearn.linear_model import LogisticRegression\n",
    "from sklearn.tree import DecisionTreeClassifier\n",
    "from sklearn.svm import SVC\n",
    "from sklearn.dummy import DummyClassifier\n",
    "import matplotlib.pyplot as plt\n",
    "from prettytable import PrettyTable\n"
   ]
  },
  {
   "cell_type": "code",
   "execution_count": 2,
   "id": "908280ec",
   "metadata": {},
   "outputs": [],
   "source": [
    "df= pd.read_csv('red_wine.csv') # read the dataframe into df"
   ]
  },
  {
   "cell_type": "code",
   "execution_count": 3,
   "id": "59188919",
   "metadata": {
    "scrolled": true
   },
   "outputs": [
    {
     "data": {
      "text/html": [
       "<div>\n",
       "<style scoped>\n",
       "    .dataframe tbody tr th:only-of-type {\n",
       "        vertical-align: middle;\n",
       "    }\n",
       "\n",
       "    .dataframe tbody tr th {\n",
       "        vertical-align: top;\n",
       "    }\n",
       "\n",
       "    .dataframe thead th {\n",
       "        text-align: right;\n",
       "    }\n",
       "</style>\n",
       "<table border=\"1\" class=\"dataframe\">\n",
       "  <thead>\n",
       "    <tr style=\"text-align: right;\">\n",
       "      <th></th>\n",
       "      <th>citric acid</th>\n",
       "      <th>sulphates</th>\n",
       "      <th>alcohol</th>\n",
       "      <th>type</th>\n",
       "    </tr>\n",
       "  </thead>\n",
       "  <tbody>\n",
       "    <tr>\n",
       "      <th>0</th>\n",
       "      <td>0.49</td>\n",
       "      <td>0.63</td>\n",
       "      <td>8.0</td>\n",
       "      <td>low</td>\n",
       "    </tr>\n",
       "    <tr>\n",
       "      <th>1</th>\n",
       "      <td>0.66</td>\n",
       "      <td>0.57</td>\n",
       "      <td>8.3</td>\n",
       "      <td>low</td>\n",
       "    </tr>\n",
       "    <tr>\n",
       "      <th>2</th>\n",
       "      <td>0.23</td>\n",
       "      <td>0.44</td>\n",
       "      <td>8.5</td>\n",
       "      <td>high</td>\n",
       "    </tr>\n",
       "    <tr>\n",
       "      <th>3</th>\n",
       "      <td>0.44</td>\n",
       "      <td>0.84</td>\n",
       "      <td>8.6</td>\n",
       "      <td>low</td>\n",
       "    </tr>\n",
       "    <tr>\n",
       "      <th>4</th>\n",
       "      <td>0.08</td>\n",
       "      <td>0.50</td>\n",
       "      <td>8.7</td>\n",
       "      <td>low</td>\n",
       "    </tr>\n",
       "  </tbody>\n",
       "</table>\n",
       "</div>"
      ],
      "text/plain": [
       "   citric acid  sulphates  alcohol  type\n",
       "0         0.49       0.63      8.0   low\n",
       "1         0.66       0.57      8.3   low\n",
       "2         0.23       0.44      8.5  high\n",
       "3         0.44       0.84      8.6   low\n",
       "4         0.08       0.50      8.7   low"
      ]
     },
     "execution_count": 3,
     "metadata": {},
     "output_type": "execute_result"
    }
   ],
   "source": [
    "df.head(5)"
   ]
  },
  {
   "cell_type": "code",
   "execution_count": 4,
   "id": "b959835d",
   "metadata": {},
   "outputs": [
    {
     "name": "stdout",
     "output_type": "stream",
     "text": [
      "<class 'pandas.core.frame.DataFrame'>\n",
      "RangeIndex: 571 entries, 0 to 570\n",
      "Data columns (total 4 columns):\n",
      " #   Column       Non-Null Count  Dtype  \n",
      "---  ------       --------------  -----  \n",
      " 0   citric acid  571 non-null    float64\n",
      " 1   sulphates    571 non-null    float64\n",
      " 2   alcohol      571 non-null    float64\n",
      " 3   type         571 non-null    object \n",
      "dtypes: float64(3), object(1)\n",
      "memory usage: 18.0+ KB\n"
     ]
    }
   ],
   "source": [
    "df.info()"
   ]
  },
  {
   "cell_type": "code",
   "execution_count": 5,
   "id": "13393b2c",
   "metadata": {},
   "outputs": [
    {
     "data": {
      "application/vnd.jupyter.widget-view+json": {
       "model_id": "ab37bcece6b04438b83715e82d537a45",
       "version_major": 2,
       "version_minor": 0
      },
      "text/plain": [
       "Summarize dataset:   0%|          | 0/5 [00:00<?, ?it/s]"
      ]
     },
     "metadata": {},
     "output_type": "display_data"
    },
    {
     "data": {
      "application/vnd.jupyter.widget-view+json": {
       "model_id": "e179a40b004841d68939578ec9ced6af",
       "version_major": 2,
       "version_minor": 0
      },
      "text/plain": [
       "Generate report structure:   0%|          | 0/1 [00:00<?, ?it/s]"
      ]
     },
     "metadata": {},
     "output_type": "display_data"
    },
    {
     "data": {
      "application/vnd.jupyter.widget-view+json": {
       "model_id": "688bf55e15c645238dded0bd9e8b430e",
       "version_major": 2,
       "version_minor": 0
      },
      "text/plain": [
       "Render HTML:   0%|          | 0/1 [00:00<?, ?it/s]"
      ]
     },
     "metadata": {},
     "output_type": "display_data"
    },
    {
     "data": {
      "application/vnd.jupyter.widget-view+json": {
       "model_id": "308e9c56f75f4954a298206b0a02269d",
       "version_major": 2,
       "version_minor": 0
      },
      "text/plain": [
       "Export report to file:   0%|          | 0/1 [00:00<?, ?it/s]"
      ]
     },
     "metadata": {},
     "output_type": "display_data"
    }
   ],
   "source": [
    "from pandas_profiling import ProfileReport\n",
    "# Create a profile report\n",
    "profile = ProfileReport(df)\n",
    "\n",
    "# Generate the report as an HTML file\n",
    "profile.to_file(\"wine_data_report.html\")"
   ]
  },
  {
   "cell_type": "markdown",
   "id": "03a2d823",
   "metadata": {},
   "source": [
    "# 2 MODELS EVALUATION"
   ]
  },
  {
   "cell_type": "code",
   "execution_count": null,
   "id": "7df3ddea",
   "metadata": {},
   "outputs": [],
   "source": [
    "# Encode the categorical 'type' column to numerical values\n",
    "label_encoder = LabelEncoder()\n",
    "df['type'] = label_encoder.fit_transform(df['type'])\n",
    "\n",
    "# Separate features and target\n",
    "X = df.drop('type', axis=1)\n",
    "y = df['type']\n",
    "\n",
    "# Set a random seed for reproducibility\n",
    "seed = 42\n",
    "\n",
    "# Define a function to calculate AUC and accuracy\n",
    "def calculate_metrics(model, X, y, metric):\n",
    "    scores = cross_val_score(model, X, y, cv=KFold(n_splits=10, shuffle=True, random_state=seed), scoring=metric)\n",
    "    return scores.mean()\n",
    "\n",
    "# Create a table to store the results\n",
    "table = PrettyTable()\n",
    "table.field_names = [\"Model\", \"Accuracy\", \"AUC\"]\n",
    "\n",
    "# Baseline model: Majority class prediction\n",
    "dummy = DummyClassifier(strategy=\"most_frequent\")\n",
    "dummy_accuracy = calculate_metrics(dummy, X, y, \"accuracy\")\n",
    "dummy_auc = calculate_metrics(dummy, X, y, \"roc_auc\")\n",
    "table.add_row([\"Baseline\", dummy_accuracy, dummy_auc])\n",
    "\n",
    "# Logistic Regression\n",
    "lr_model = LogisticRegression(random_state=seed)\n",
    "lr_accuracy = calculate_metrics(lr_model, X, y, \"accuracy\")\n",
    "lr_auc = calculate_metrics(lr_model, X, y, \"roc_auc\")\n",
    "table.add_row([\"Logistic Regression\", lr_accuracy, lr_auc])\n",
    "\n",
    "# Naive Bayes\n",
    "nb_model = GaussianNB()\n",
    "nb_accuracy = calculate_metrics(nb_model, X, y, \"accuracy\")\n",
    "nb_auc = calculate_metrics(nb_model, X, y, \"roc_auc\")\n",
    "table.add_row([\"Naive Bayes\", nb_accuracy, nb_auc])\n",
    "\n",
    "# Decision Tree\n",
    "dt_model = DecisionTreeClassifier(random_state=seed)\n",
    "dt_accuracy = calculate_metrics(dt_model, X, y, \"accuracy\")\n",
    "dt_auc = calculate_metrics(dt_model, X, y, \"roc_auc\")\n",
    "table.add_row([\"Decision Tree\", dt_accuracy, dt_auc])\n",
    "\n",
    "# SVM with Linear Kernel\n",
    "svm_linear_model = SVC(kernel='linear', random_state=seed)\n",
    "svm_linear_accuracy = calculate_metrics(svm_linear_model, X, y, \"accuracy\")\n",
    "svm_linear_auc = calculate_metrics(svm_linear_model, X, y, \"roc_auc\")\n",
    "table.add_row([\"SVM-Linear\", svm_linear_accuracy, svm_linear_auc])\n",
    "\n",
    "# SVM with RBF Kernel\n",
    "svm_rbf_model = SVC(kernel='rbf', random_state=seed)\n",
    "svm_rbf_accuracy = calculate_metrics(svm_rbf_model, X, y, \"accuracy\")\n",
    "svm_rbf_auc = calculate_metrics(svm_rbf_model, X, y, \"roc_auc\")\n",
    "table.add_row([\"SVM-RBF\", svm_rbf_accuracy, svm_rbf_auc])\n",
    "\n",
    "# Random Forest\n",
    "rf_model = RandomForestClassifier(random_state=seed)\n",
    "rf_accuracy = calculate_metrics(rf_model, X, y, \"accuracy\")\n",
    "rf_auc = calculate_metrics(rf_model, X, y, \"roc_auc\")\n",
    "table.add_row([\"Random Forest\", rf_accuracy, rf_auc])\n",
    "\n",
    "# Print the results\n",
    "print(table)\n"
   ]
  },
  {
   "cell_type": "markdown",
   "id": "e5949751",
   "metadata": {},
   "source": [
    "# 3 RANDOM CLASSIFIER"
   ]
  },
  {
   "cell_type": "code",
   "execution_count": 7,
   "id": "49131d42",
   "metadata": {},
   "outputs": [
    {
     "data": {
      "image/png": "[encoded data removed]",
      "text/plain": [
       "<Figure size 640x480 with 1 Axes>"
      ]
     },
     "metadata": {},
     "output_type": "display_data"
    }
   ],
   "source": [
    "# Use cross_val_predict to get predicted probabilities\n",
    "y_pred_prob = cross_val_predict(rf_model, X, y, cv=KFold(n_splits=10, shuffle=True, random_state=seed), method='predict_proba')\n",
    "\n",
    "# Calculate the ROC curve\n",
    "fpr, tpr, _ = roc_curve(y, y_pred_prob[:, 1])\n",
    "\n",
    "# Calculate the area under the ROC curve (AUC)\n",
    "roc_auc = auc(fpr, tpr)\n",
    "\n",
    "# Plot the ROC curve\n",
    "plt.figure()\n",
    "plt.plot(fpr, tpr, color='darkorange', lw=2, label=f'ROC curve (area = {roc_auc:.2f})')\n",
    "plt.plot([0, 1], [0, 1], color='navy', lw=2, linestyle='--')\n",
    "plt.xlim([0.0, 1.0])\n",
    "plt.ylim([0.0, 1.05])\n",
    "plt.xlabel('False Positive Rate')\n",
    "plt.ylabel('True Positive Rate')\n",
    "plt.title('Receiver Operating Characteristic')\n",
    "plt.legend(loc='lower right')\n",
    "plt.show()\n"
   ]
  },
  {
   "cell_type": "markdown",
   "id": "095bbf26",
   "metadata": {},
   "source": [
    "# 4 WHITE WINE"
   ]
  },
  {
   "cell_type": "code",
   "execution_count": 8,
   "id": "4fc60a7c",
   "metadata": {},
   "outputs": [],
   "source": [
    "df1= pd.read_csv('white_wine.csv') # read the dataframe into df"
   ]
  },
  {
   "cell_type": "code",
   "execution_count": 9,
   "id": "5b7bc33f",
   "metadata": {},
   "outputs": [
    {
     "data": {
      "text/html": [
       "<div>\n",
       "<style scoped>\n",
       "    .dataframe tbody tr th:only-of-type {\n",
       "        vertical-align: middle;\n",
       "    }\n",
       "\n",
       "    .dataframe tbody tr th {\n",
       "        vertical-align: top;\n",
       "    }\n",
       "\n",
       "    .dataframe thead th {\n",
       "        text-align: right;\n",
       "    }\n",
       "</style>\n",
       "<table border=\"1\" class=\"dataframe\">\n",
       "  <thead>\n",
       "    <tr style=\"text-align: right;\">\n",
       "      <th></th>\n",
       "      <th>citric acid</th>\n",
       "      <th>sulphates</th>\n",
       "      <th>alcohol</th>\n",
       "      <th>type</th>\n",
       "    </tr>\n",
       "  </thead>\n",
       "  <tbody>\n",
       "    <tr>\n",
       "      <th>0</th>\n",
       "      <td>0.24</td>\n",
       "      <td>0.52</td>\n",
       "      <td>9.4</td>\n",
       "      <td>low</td>\n",
       "    </tr>\n",
       "    <tr>\n",
       "      <th>1</th>\n",
       "      <td>0.49</td>\n",
       "      <td>0.56</td>\n",
       "      <td>9.4</td>\n",
       "      <td>low</td>\n",
       "    </tr>\n",
       "    <tr>\n",
       "      <th>2</th>\n",
       "      <td>0.66</td>\n",
       "      <td>0.73</td>\n",
       "      <td>10.0</td>\n",
       "      <td>low</td>\n",
       "    </tr>\n",
       "    <tr>\n",
       "      <th>3</th>\n",
       "      <td>0.32</td>\n",
       "      <td>0.77</td>\n",
       "      <td>10.0</td>\n",
       "      <td>low</td>\n",
       "    </tr>\n",
       "    <tr>\n",
       "      <th>4</th>\n",
       "      <td>0.38</td>\n",
       "      <td>0.82</td>\n",
       "      <td>10.0</td>\n",
       "      <td>low</td>\n",
       "    </tr>\n",
       "  </tbody>\n",
       "</table>\n",
       "</div>"
      ],
      "text/plain": [
       "   citric acid  sulphates  alcohol type\n",
       "0         0.24       0.52      9.4  low\n",
       "1         0.49       0.56      9.4  low\n",
       "2         0.66       0.73     10.0  low\n",
       "3         0.32       0.77     10.0  low\n",
       "4         0.38       0.82     10.0  low"
      ]
     },
     "execution_count": 9,
     "metadata": {},
     "output_type": "execute_result"
    }
   ],
   "source": [
    "df1.head(5)"
   ]
  },
  {
   "cell_type": "code",
   "execution_count": 10,
   "id": "9e1a3ff5",
   "metadata": {},
   "outputs": [
    {
     "name": "stdout",
     "output_type": "stream",
     "text": [
      "<class 'pandas.core.frame.DataFrame'>\n",
      "RangeIndex: 78 entries, 0 to 77\n",
      "Data columns (total 4 columns):\n",
      " #   Column       Non-Null Count  Dtype  \n",
      "---  ------       --------------  -----  \n",
      " 0   citric acid  78 non-null     float64\n",
      " 1   sulphates    78 non-null     float64\n",
      " 2   alcohol      78 non-null     float64\n",
      " 3   type         78 non-null     object \n",
      "dtypes: float64(3), object(1)\n",
      "memory usage: 2.6+ KB\n"
     ]
    }
   ],
   "source": [
    "df1.info()"
   ]
  },
  {
   "cell_type": "code",
   "execution_count": 11,
   "id": "9c47255b",
   "metadata": {},
   "outputs": [
    {
     "name": "stdout",
     "output_type": "stream",
     "text": [
      " AUC Score on White Wine Dataset: 0.9615\n"
     ]
    }
   ],
   "source": [
    "# Encode the categorical 'type' column to numerical values\n",
    "label_encoder = LabelEncoder()\n",
    "df1['type'] = label_encoder.fit_transform(df1['type'])\n",
    "\n",
    "# Separate features and target\n",
    "X1 = df1.drop('type', axis=1)\n",
    "y1 = df1['type']\n",
    "\n",
    "# Load the trained Random Forest model from Q2\n",
    "rf_model = RandomForestClassifier(random_state=42)\n",
    "\n",
    "# Calculate AUC using cross-validation and print the average AUC\n",
    "average_auc = cross_val_score(rf_model, X1, y1, cv=KFold(n_splits=10, shuffle=True, random_state=42), scoring=\"roc_auc\").mean()\n",
    "\n",
    "print(f' AUC Score on White Wine Dataset: {average_auc:.4f}')\n"
   ]
  },
  {
   "cell_type": "code",
   "execution_count": null,
   "id": "03b937b9",
   "metadata": {},
   "outputs": [],
   "source": []
  }
 ],
 "metadata": {
  "kernelspec": {
   "display_name": "Python 3 (ipykernel)",
   "language": "python",
   "name": "python3"
  },
  "language_info": {
   "codemirror_mode": {
    "name": "ipython",
    "version": 3
   },
   "file_extension": ".py",
   "mimetype": "text/x-python",
   "name": "python",
   "nbconvert_exporter": "python",
   "pygments_lexer": "ipython3",
   "version": "3.9.13"
  }
 },
 "nbformat": 4,
 "nbformat_minor": 5
}
